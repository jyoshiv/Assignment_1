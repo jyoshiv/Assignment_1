{
 "cells": [
  {
   "cell_type": "markdown",
   "id": "7c9b48d4",
   "metadata": {},
   "source": [
    "# Task 1)  go through some of the other in built functions"
   ]
  },
  {
   "cell_type": "markdown",
   "id": "923445c0",
   "metadata": {},
   "source": [
    "built in function are the pre-define function in python. some examples are \n",
    "1) abs(x) for fetching the absolute value of x.\n",
    "2) bin() for getting the binary value.\n",
    "3) bool() for retrieving the boolean value of an object.\n",
    "4) list() for lists. \n",
    "5) len() to get the length of the value.\n",
    "6) open() to open the files. \n",
    "7) pow() for returning the power of a number. \n",
    "8) sum() for fetching the sum of the elements\n",
    "9) min()"
   ]
  },
  {
   "cell_type": "code",
   "execution_count": 1,
   "id": "cfb2941a",
   "metadata": {},
   "outputs": [
    {
     "name": "stdout",
     "output_type": "stream",
     "text": [
      "45\n",
      "8.99\n",
      "87\n",
      "8.602325267042627\n"
     ]
    }
   ],
   "source": [
    "# abs(x)\n",
    "a=45\n",
    "b=8.99\n",
    "c=-87\n",
    "d= 5+7j\n",
    "print(abs(a))\n",
    "print(abs(b))\n",
    "print(abs(c))\n",
    "print(abs(d))"
   ]
  },
  {
   "cell_type": "code",
   "execution_count": 2,
   "id": "d0304434",
   "metadata": {},
   "outputs": [
    {
     "name": "stdout",
     "output_type": "stream",
     "text": [
      "0b1000\n"
     ]
    }
   ],
   "source": [
    "#bin()\n",
    "a=8\n",
    "print(bin(a))"
   ]
  },
  {
   "cell_type": "code",
   "execution_count": 3,
   "id": "499b4bfb",
   "metadata": {},
   "outputs": [
    {
     "name": "stdout",
     "output_type": "stream",
     "text": [
      "True\n"
     ]
    }
   ],
   "source": [
    "#bool()\n",
    "a=87\n",
    "print(bool(a))"
   ]
  },
  {
   "cell_type": "code",
   "execution_count": 4,
   "id": "fce769c8",
   "metadata": {},
   "outputs": [
    {
     "name": "stdout",
     "output_type": "stream",
     "text": [
      "[1, 2, 3, 4, 'jyoti', (5+7j)]\n"
     ]
    }
   ],
   "source": [
    "#list\n",
    "list=[1,2,3,4,\"jyoti\",5+7j]\n",
    "print(list)"
   ]
  },
  {
   "cell_type": "code",
   "execution_count": 5,
   "id": "6c7b10d4",
   "metadata": {},
   "outputs": [
    {
     "name": "stdout",
     "output_type": "stream",
     "text": [
      "6\n"
     ]
    }
   ],
   "source": [
    "#len()\n",
    "list1=[1,5,8,7,9,\"house\"]\n",
    "print(len(list1))"
   ]
  },
  {
   "cell_type": "code",
   "execution_count": 8,
   "id": "f766fc29",
   "metadata": {},
   "outputs": [
    {
     "name": "stdout",
     "output_type": "stream",
     "text": [
      "0.125\n"
     ]
    }
   ],
   "source": [
    "#pow\n",
    "print(pow(2,-3))"
   ]
  },
  {
   "cell_type": "code",
   "execution_count": 9,
   "id": "c6b023f1",
   "metadata": {},
   "outputs": [
    {
     "name": "stdout",
     "output_type": "stream",
     "text": [
      "33\n"
     ]
    }
   ],
   "source": [
    "#sun\n",
    "list=[3,6,7,8,9]\n",
    "a=sum(list)\n",
    "print(a)"
   ]
  },
  {
   "cell_type": "code",
   "execution_count": 10,
   "id": "5b2d1930",
   "metadata": {},
   "outputs": [
    {
     "name": "stdout",
     "output_type": "stream",
     "text": [
      "2\n"
     ]
    }
   ],
   "source": [
    "#min\n",
    "list=[5,8,9,3,2]\n",
    "b=min(list)\n",
    "print(b)"
   ]
  },
  {
   "cell_type": "code",
   "execution_count": 22,
   "id": "a76bdc82",
   "metadata": {},
   "outputs": [
    {
     "name": "stdout",
     "output_type": "stream",
     "text": [
      "krewzteN\n"
     ]
    }
   ],
   "source": [
    "str =\"Netzwerk\"\n",
    "print(str[-1::-1])"
   ]
  },
  {
   "cell_type": "markdown",
   "id": "e41c0153",
   "metadata": {},
   "source": [
    "# Task 2)  given a string for example\n"
   ]
  },
  {
   "cell_type": "markdown",
   "id": "372f5e81",
   "metadata": {},
   "source": [
    "##\n",
    "\n",
    "str1 = \"Welcome to python\"\n",
    "\n",
    "check if \"to\" is present in \"welcome to python\""
   ]
  },
  {
   "cell_type": "code",
   "execution_count": 24,
   "id": "fc82d24d",
   "metadata": {},
   "outputs": [
    {
     "name": "stdout",
     "output_type": "stream",
     "text": [
      "yes\n"
     ]
    }
   ],
   "source": [
    "str1 = \" Welcome to python\"\n",
    "if \"to\" in str1:\n",
    "    print(\"yes\")\n",
    "else:\n",
    "    print(\"no\")"
   ]
  },
  {
   "cell_type": "markdown",
   "id": "5b8d3c77",
   "metadata": {},
   "source": [
    "# Task-3.1 go through other inbuilt methods like remove(),count(),clear(),sort(),reverse()\n"
   ]
  },
  {
   "cell_type": "markdown",
   "id": "99ef1fa7",
   "metadata": {},
   "source": [
    "#remove \n",
    "In Python, `remove()` is a built-in method that allows you to remove a specific element from a list. It is used to delete the first occurrence of the specified value from the list. Here, `list_name` is the name of the list from which you want to remove the element, and `value` is the element that you want to remove.\n"
   ]
  },
  {
   "cell_type": "code",
   "execution_count": 30,
   "id": "57fda0b0",
   "metadata": {},
   "outputs": [
    {
     "data": {
      "text/plain": [
       "[4, 7, 9, 4, 3, 7]"
      ]
     },
     "execution_count": 30,
     "metadata": {},
     "output_type": "execute_result"
    }
   ],
   "source": [
    "list=[4,7,8,9,4,3,7]\n",
    "list.remove(8)\n",
    "list"
   ]
  },
  {
   "cell_type": "code",
   "execution_count": 35,
   "id": "bb862d43",
   "metadata": {},
   "outputs": [
    {
     "name": "stdout",
     "output_type": "stream",
     "text": [
      "2\n"
     ]
    }
   ],
   "source": [
    "b=list.count(7)\n",
    "print(b)\n"
   ]
  },
  {
   "cell_type": "code",
   "execution_count": 36,
   "id": "c9d089c8",
   "metadata": {},
   "outputs": [
    {
     "data": {
      "text/plain": [
       "[]"
      ]
     },
     "execution_count": 36,
     "metadata": {},
     "output_type": "execute_result"
    }
   ],
   "source": [
    "list=[7,8,\"orange\",\"purple\"]\n",
    "list.clear()\n",
    "list"
   ]
  },
  {
   "cell_type": "code",
   "execution_count": 38,
   "id": "3a749c5f",
   "metadata": {},
   "outputs": [
    {
     "data": {
      "text/plain": [
       "[2, 3, 4, 4, 6, 6, 7, 9]"
      ]
     },
     "execution_count": 38,
     "metadata": {},
     "output_type": "execute_result"
    }
   ],
   "source": [
    "list=[4,7,9,6,4,3,2,6]\n",
    "list.sort()\n",
    "list"
   ]
  },
  {
   "cell_type": "code",
   "execution_count": 44,
   "id": "c6d4dc58",
   "metadata": {},
   "outputs": [
    {
     "name": "stdout",
     "output_type": "stream",
     "text": [
      "iabmum ni ma i \n"
     ]
    }
   ],
   "source": [
    "str=\" i am in mumbai\"\n",
    "a=str[-1::-1]\n",
    "print(a)"
   ]
  },
  {
   "cell_type": "markdown",
   "id": "c6af9431",
   "metadata": {},
   "source": [
    "# Task 3.2 Create a list of lenght = 10 and access 5th to 8th data.\n",
    "\n"
   ]
  },
  {
   "cell_type": "code",
   "execution_count": 46,
   "id": "7d04012f",
   "metadata": {},
   "outputs": [
    {
     "name": "stdout",
     "output_type": "stream",
     "text": [
      "[6, 4, 6, 4]\n"
     ]
    }
   ],
   "source": [
    "list=[ 3,7,8,9,6,6,4,6,4,2]\n",
    "a=list[5:9]\n",
    "print(a)"
   ]
  },
  {
   "cell_type": "code",
   "execution_count": null,
   "id": "45f3717c",
   "metadata": {},
   "outputs": [],
   "source": []
  },
  {
   "cell_type": "markdown",
   "id": "8d37e505",
   "metadata": {},
   "source": [
    "# Task-4: 2 problems! Add item 70 after 60 in the following Python List\n",
    "#input\n",
    "l1 = [10, 20, [30, 40, [50, 60], 80], 90, 100]\n",
    "#output\n",
    "[10, 20, [30, 40, [50, 60, 70], 80], 90, 100]\n",
    " "
   ]
  },
  {
   "cell_type": "code",
   "execution_count": 101,
   "id": "56c5194d",
   "metadata": {},
   "outputs": [
    {
     "name": "stdout",
     "output_type": "stream",
     "text": [
      "5\n",
      "[30, 40, [50, 60], 80]\n",
      "[50, 60]\n",
      "[50, 60, 70]\n"
     ]
    }
   ],
   "source": [
    "lst= [10, 20, [30, 40, [50, 60], 80], 90, 100] \n",
    "a=len(lst)\n",
    "print(a)\n",
    "b=lst[2]\n",
    "print(b)\n",
    "c=b[2]\n",
    "print(c)\n",
    "c.append(70)\n",
    "print(c)\n"
   ]
  },
  {
   "cell_type": "code",
   "execution_count": 117,
   "id": "689c8741",
   "metadata": {},
   "outputs": [
    {
     "name": "stdout",
     "output_type": "stream",
     "text": [
      "5\n",
      "[10, 20, [30, 40, [50, 60, 70], 80], 90, 100]\n"
     ]
    }
   ],
   "source": [
    "lst= [10, 20, [30, 40, [50, 60], 80], 90, 100] \n",
    "a=len(lst)\n",
    "print(a)\n",
    "lst[2][2].append(70)\n",
    "print(lst)\n"
   ]
  },
  {
   "cell_type": "markdown",
   "id": "ed4321d7",
   "metadata": {},
   "source": [
    "add sublist [7,8] after 6\n",
    "#input\n",
    "l2 = [1,2,[3,4,5,6],9]\n",
    "#output\n",
    "[1,2,[3,4,5,6,[7,8]],9]\n",
    "\n"
   ]
  },
  {
   "cell_type": "code",
   "execution_count": 113,
   "id": "9048c825",
   "metadata": {},
   "outputs": [
    {
     "name": "stdout",
     "output_type": "stream",
     "text": [
      "4\n",
      "None\n",
      "[3, 4, 5, 6, [7, 8]]\n"
     ]
    }
   ],
   "source": [
    "list =[1,2,[3,4,5,6],9]\n",
    "a=print(len(list))\n",
    "print(a)\n",
    "b=list[2]\n",
    "b.append([7,8])\n",
    "print(b)"
   ]
  },
  {
   "cell_type": "code",
   "execution_count": 115,
   "id": "255eac2a",
   "metadata": {},
   "outputs": [
    {
     "name": "stdout",
     "output_type": "stream",
     "text": [
      "4\n",
      "None\n",
      "[3, 4, 5, 6, [7, 8]]\n",
      "[1, 2, [3, 4, 5, 6, [7, 8]], 9]\n"
     ]
    }
   ],
   "source": [
    "\n",
    "list =[1,2,[3,4,5,6],9]\n",
    "a=print(len(list))\n",
    "print(a)\n",
    "list[2].append([7,8])\n",
    "print(b)\n",
    "print(list)"
   ]
  },
  {
   "cell_type": "markdown",
   "id": "239c5182",
   "metadata": {},
   "source": [
    "# Task-5\n",
    "\n",
    "code:\n",
    "dict1 = { \n",
    "   \"april_batch\":{ \n",
    "      \"student\":{ \n",
    "         \"name\":\"Mike\",\n",
    "         \"marks\":{ \n",
    "            \"python\":80,\n",
    "            \"maths\":70\n",
    "         }\n",
    "      }\n",
    "   }\n",
    "}\n",
    "\n",
    "Questions:\n",
    "From the above dictionary, do the following tasks\n",
    "\n",
    "access \"Mike\"\n",
    "access 80\n",
    "change \"Mike\" to \"Your name\"\n",
    "add ML = 80 and DL = 80 inside marks\n"
   ]
  },
  {
   "cell_type": "code",
   "execution_count": 141,
   "id": "55a52ddc",
   "metadata": {},
   "outputs": [
    {
     "ename": "SyntaxError",
     "evalue": "cannot assign to function call here. Maybe you meant '==' instead of '='? (3328014307.py, line 7)",
     "output_type": "error",
     "traceback": [
      "\u001b[1;36m  Cell \u001b[1;32mIn[141], line 7\u001b[1;36m\u001b[0m\n\u001b[1;33m    dict1(name)=\"jyoti\"\u001b[0m\n\u001b[1;37m    ^\u001b[0m\n\u001b[1;31mSyntaxError\u001b[0m\u001b[1;31m:\u001b[0m cannot assign to function call here. Maybe you meant '==' instead of '='?\n"
     ]
    }
   ],
   "source": [
    "dict1 = { \"april_batch\":\n",
    "         { \"student\":\n",
    "          { \"name\":\"Mike\", \n",
    "           \"marks\":\n",
    "           { \"python\":80, \"maths\":70 } } } }\n",
    "print(len(dict1))\n",
    "dict1(name)=\"jyoti\"\n",
    "print(dict1)"
   ]
  },
  {
   "cell_type": "markdown",
   "id": "4353c13c",
   "metadata": {},
   "source": [
    "# Task 6 \n",
    "Add and remove the elements from a tuple. (Refer workaroud to modify the tuples)"
   ]
  },
  {
   "cell_type": "code",
   "execution_count": null,
   "id": "27e8d8c7",
   "metadata": {},
   "outputs": [],
   "source": []
  },
  {
   "cell_type": "markdown",
   "id": "ae50eb67",
   "metadata": {},
   "source": [
    "# Task7 - go through other inbuilt methods like\n",
    "difference()\n",
    "symmetric_difference()"
   ]
  },
  {
   "cell_type": "code",
   "execution_count": 145,
   "id": "6ffd3ec2",
   "metadata": {},
   "outputs": [
    {
     "name": "stdout",
     "output_type": "stream",
     "text": [
      "{'purple', 'black', 'red', 'bargandi', 'yellow', 'pink', 'green'}\n",
      "{'black', 'red'}\n"
     ]
    }
   ],
   "source": [
    "group1= { \"green\",\"pink\",\"black\",\"red\",\"yellow\"}\n",
    "group2={ \"black\",\"purple\",\"bargandi\",\"red\"}\n",
    "group3=group1.union(group2)\n",
    "group4=group1.intersection(group2)\n",
    "\n",
    "print(group3)\n",
    "print(group4)\n"
   ]
  },
  {
   "cell_type": "markdown",
   "id": "f0a7eb65",
   "metadata": {},
   "source": [
    "# Task8 - Make a table of all the In-built data structures and Point out the differences one by one\n"
   ]
  },
  {
   "cell_type": "markdown",
   "id": "5866cdb7",
   "metadata": {},
   "source": [
    "Python has four non-primitive inbuilt data structures namely Lists, Dictionary, Tuple and Set.\n",
    "\n"
   ]
  },
  {
   "cell_type": "markdown",
   "id": "f28f184c",
   "metadata": {},
   "source": [
    "#list : list are mutable we can change the element in the list , list are slower than tuple .ordered collection of data\n",
    "     \n",
    "#eg list=[ 1,5,\"girl\",\"boy\"]"
   ]
  },
  {
   "cell_type": "markdown",
   "id": "63be05f3",
   "metadata": {},
   "source": [
    "#tup:- tuple are immutable we can not change element in the tuple. tuple is faster than list \n",
    "tup1= (1,3,6,\"rohit\")"
   ]
  },
  {
   "cell_type": "markdown",
   "id": "5f7512c3",
   "metadata": {},
   "source": [
    "\n",
    "Dictionary: In python, dictionary is similar to hash or maps in other languages. It consists of key value pairs. The value can be accessed by unique key in the dictionary. \n",
    " dict = { \"name\":\"jyoti\", \"age\":24}\n",
    " "
   ]
  },
  {
   "cell_type": "markdown",
   "id": "ab268f42",
   "metadata": {},
   "source": [
    "set : Unordered collection of unique objects. \n",
    "set1={ 1,4,6,7,8}"
   ]
  },
  {
   "cell_type": "markdown",
   "id": "e4ed2ce3",
   "metadata": {},
   "source": [
    "# Task9\n",
    "Ask 2 numbers from users and store it in num1 and num2\n",
    "Ask user to press 1 for addition,2 for subtraction,3 for multiplication and 4 for division\n",
    "based on number given by user do the math operation\n",
    " "
   ]
  },
  {
   "cell_type": "code",
   "execution_count": 3,
   "id": "3c6c7d8c",
   "metadata": {},
   "outputs": [
    {
     "name": "stdout",
     "output_type": "stream",
     "text": [
      "Enter First Number: 10\n",
      "Enter Second Number: 20\n",
      "Enter which operation would you like to perform?\n",
      "Enter any of these char for specific operation 1,2,3,4: 1\n",
      "10 1 20 : 30\n"
     ]
    }
   ],
   "source": [
    "#for addition\n",
    "num1 = int(input(\"Enter First Number: \"))\n",
    "num2 = int(input(\"Enter Second Number: \"))\n",
    "\n",
    "print(\"Enter which operation would you like to perform?\")\n",
    "ch = input(\"Enter any of these char for specific operation 1,2,3,4: \")\n",
    "\n",
    "result = 0\n",
    "if ch == '1':\n",
    "    result = num1 + num2\n",
    "elif ch == '2':\n",
    "    result = num1 - num2\n",
    "elif ch == '3':\n",
    "    result = num1 * num2\n",
    "elif ch == '4':\n",
    "    result = num1 / num2\n",
    "else:\n",
    "    print(\"Input character is not recognized!\")\n",
    "\n",
    "print(num1, ch , num2, \":\", result)"
   ]
  },
  {
   "cell_type": "code",
   "execution_count": 5,
   "id": "2b934f5b",
   "metadata": {},
   "outputs": [
    {
     "name": "stdout",
     "output_type": "stream",
     "text": [
      "enter first number : 30\n",
      "enter second number : 20\n",
      "which operation you like to perform : \n",
      "enter for addition 1, for subtraction 2 , for multiplication 3 and for division 4 : 2\n",
      "30 2 20 : 10\n"
     ]
    }
   ],
   "source": [
    "num1= int(input(\"enter first number : \"))\n",
    "num2 =int(input(\"enter second number : \"))\n",
    "\n",
    "print(\"which operation you like to perform : \")\n",
    "\n",
    "ch =input(\"enter for addition 1, for subtraction 2 , for multiplication 3 and for division 4 : \")\n",
    "\n",
    "result =0\n",
    "if ch =='1':\n",
    "    result = num1+num2\n",
    "    \n",
    "elif ch == '2':\n",
    "    result = num1-num2\n",
    "    \n",
    "elif ch=='3':\n",
    "    result = num1*num2\n",
    "    \n",
    "elif ch=='4':\n",
    "    result = num1/num2\n",
    "    \n",
    "else:\n",
    "    print(\"input char not recognised \")\n",
    "    \n",
    "print(num1,ch , num2,\":\",result )    "
   ]
  },
  {
   "cell_type": "markdown",
   "id": "bce0d64d",
   "metadata": {},
   "source": [
    "# for loop and while loop "
   ]
  },
  {
   "cell_type": "code",
   "execution_count": 7,
   "id": "9ebb2d8c",
   "metadata": {},
   "outputs": [
    {
     "name": "stdout",
     "output_type": "stream",
     "text": [
      "red\n",
      "r\n",
      "e\n",
      "d\n",
      "pink\n",
      "p\n",
      "i\n",
      "n\n",
      "k\n",
      "white\n",
      "w\n",
      "h\n",
      "i\n",
      "t\n",
      "e\n",
      "green\n",
      "g\n",
      "r\n",
      "e\n",
      "e\n",
      "n\n"
     ]
    }
   ],
   "source": [
    "#for loop \n",
    "colors=[ \"red\",\"pink\",\"white\",\"green\"]\n",
    "for i in colors:\n",
    "    print(i)\n",
    "    for j in i:\n",
    "        print(j)"
   ]
  },
  {
   "cell_type": "code",
   "execution_count": 13,
   "id": "0fe4f16c",
   "metadata": {},
   "outputs": [
    {
     "name": "stdout",
     "output_type": "stream",
     "text": [
      "0\n",
      "2\n",
      "4\n",
      "6\n",
      "8\n",
      "10\n",
      "12\n",
      "14\n",
      "16\n",
      "18\n",
      "20\n"
     ]
    }
   ],
   "source": [
    "#print the 2 table using for loop\n",
    "\n",
    "for i in range(0,100):\n",
    "    i=i*2\n",
    "    if i==22:\n",
    "        break\n",
    "    print(i)\n",
    "    \n",
    "    "
   ]
  },
  {
   "cell_type": "code",
   "execution_count": 30,
   "id": "9f7fc1c8",
   "metadata": {},
   "outputs": [
    {
     "name": "stdout",
     "output_type": "stream",
     "text": [
      "1  is odd\n",
      "2  is even \n",
      "3  is odd\n",
      "4  is even \n",
      "5  is odd\n",
      "6  is even \n",
      "7  is odd\n",
      "8  is even \n",
      "9  is odd\n",
      "10  is even \n"
     ]
    }
   ],
   "source": [
    "tup=(1,2,3,4,5,6,7,8,9,10)\n",
    "for x in tup:\n",
    "    if x%2==0:\n",
    "        print(x,\" is even \")\n",
    "    else:\n",
    "        print(x,\" is odd\")\n",
    "        "
   ]
  },
  {
   "cell_type": "markdown",
   "id": "2c02c7d7",
   "metadata": {},
   "source": [
    "# while loop\n"
   ]
  },
  {
   "cell_type": "code",
   "execution_count": null,
   "id": "17d62009",
   "metadata": {},
   "outputs": [],
   "source": [
    "i=1\n",
    "while i<6:\n",
    "    i=i+1\n",
    "    print(i)"
   ]
  },
  {
   "cell_type": "markdown",
   "id": "38d7fda4",
   "metadata": {},
   "source": [
    "# Task 10.1 = what is the uasge of continue,break and pass  wiith an example.  "
   ]
  },
  {
   "cell_type": "markdown",
   "id": "c9298494",
   "metadata": {},
   "source": [
    "# 1)continue"
   ]
  },
  {
   "cell_type": "code",
   "execution_count": 20,
   "id": "8968ef0b",
   "metadata": {},
   "outputs": [
    {
     "name": "stdout",
     "output_type": "stream",
     "text": [
      "mango\n",
      "banana\n",
      "periperi\n"
     ]
    }
   ],
   "source": [
    "#in continue statement they will leave that element and move ahead\n",
    "list=[\"mango\",\"banana\",\"apple\",\"periperi\"]\n",
    "for x in list:\n",
    "    if x =='apple':\n",
    "        continue\n",
    "    print(x)    \n",
    "    "
   ]
  },
  {
   "cell_type": "markdown",
   "id": "b8c6722b",
   "metadata": {},
   "source": [
    "# break"
   ]
  },
  {
   "cell_type": "code",
   "execution_count": 17,
   "id": "8468f459",
   "metadata": {},
   "outputs": [
    {
     "name": "stdout",
     "output_type": "stream",
     "text": [
      "2\n",
      "4\n",
      "6\n",
      "8\n",
      "10\n",
      "12\n",
      "14\n",
      "16\n",
      "18\n",
      "20\n"
     ]
    }
   ],
   "source": [
    "#break : in break stmt it will stop at that place where we give the condition \n",
    "for i in range(1,100):\n",
    "    i=i*2\n",
    "    if i==22:\n",
    "        break\n",
    "    print(i)"
   ]
  },
  {
   "cell_type": "markdown",
   "id": "693fcad8",
   "metadata": {},
   "source": [
    "# pass"
   ]
  },
  {
   "cell_type": "code",
   "execution_count": 33,
   "id": "37425169",
   "metadata": {},
   "outputs": [
    {
     "name": "stdout",
     "output_type": "stream",
     "text": [
      "1\n",
      "2\n",
      "3\n",
      "4\n",
      "5\n",
      "6\n",
      "7\n",
      "8\n",
      "9\n",
      "10\n"
     ]
    }
   ],
   "source": [
    "#When the user does not know what code to write, So user simply places a pass at that line. \n",
    "#Sometimes, the pass is used when the user doesn’t want any code to execute.\n",
    "list=[1,2,3,4,5,6,7,8,9,10]\n",
    "for x in list:\n",
    "    if x==11:\n",
    "        pass\n",
    "    print(x)\n",
    "        \n",
    "   "
   ]
  },
  {
   "cell_type": "code",
   "execution_count": null,
   "id": "48face2d",
   "metadata": {},
   "outputs": [],
   "source": [
    "a=8"
   ]
  },
  {
   "cell_type": "code",
   "execution_count": null,
   "id": "d95ded2f",
   "metadata": {},
   "outputs": [],
   "source": []
  }
 ],
 "metadata": {
  "kernelspec": {
   "display_name": "Python 3 (ipykernel)",
   "language": "python",
   "name": "python3"
  },
  "language_info": {
   "codemirror_mode": {
    "name": "ipython",
    "version": 3
   },
   "file_extension": ".py",
   "mimetype": "text/x-python",
   "name": "python",
   "nbconvert_exporter": "python",
   "pygments_lexer": "ipython3",
   "version": "3.11.3"
  }
 },
 "nbformat": 4,
 "nbformat_minor": 5
}
