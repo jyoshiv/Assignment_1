{
 "cells": [
  {
   "cell_type": "markdown",
   "id": "7a358539",
   "metadata": {},
   "source": [
    "# dictionaries and set "
   ]
  },
  {
   "cell_type": "code",
   "execution_count": 2,
   "id": "e831d434",
   "metadata": {},
   "outputs": [
    {
     "data": {
      "text/plain": [
       "{'birla', 'ganesh', 'mohit', 'shree'}"
      ]
     },
     "execution_count": 2,
     "metadata": {},
     "output_type": "execute_result"
    }
   ],
   "source": [
    "#set :- set are used to store multiple item in single variable \n",
    "set={ \"mohit\",\"ganesh\",\"birla\",\"shree\"}\n",
    "set"
   ]
  },
  {
   "cell_type": "code",
   "execution_count": 3,
   "id": "fd59faa7",
   "metadata": {},
   "outputs": [
    {
     "name": "stdout",
     "output_type": "stream",
     "text": [
      "ganesh\n",
      "mohit\n",
      "birla\n",
      "shree\n"
     ]
    }
   ],
   "source": [
    "for item in set:\n",
    "    \n",
    "    print(item)"
   ]
  },
  {
   "cell_type": "code",
   "execution_count": 7,
   "id": "136a7ce1",
   "metadata": {},
   "outputs": [
    {
     "name": "stdout",
     "output_type": "stream",
     "text": [
      "10\n",
      "True\n"
     ]
    }
   ],
   "source": [
    "set={10,20,30,40,50,60,70,80,90,100}\n",
    "a=print(len(set))\n",
    "print( 10 in set )\n",
    "    \n",
    " "
   ]
  },
  {
   "cell_type": "code",
   "execution_count": 8,
   "id": "5b9186f4",
   "metadata": {},
   "outputs": [
    {
     "name": "stdout",
     "output_type": "stream",
     "text": [
      "{'jyoti', 'piya', 'meera', 'jiya'}\n"
     ]
    }
   ],
   "source": [
    "#You cannot access items in a set by referring to an index or a key.\n",
    "\n",
    "#But you can loop through the set items using a for loop, or ask if a specified value is present in a set, by using the in keyword.\n",
    "#once the set is created you can not change the item but you cann add new item \n",
    "set ={\"jyoti\",\"meera\",\"piya\"}\n",
    "set.add(\"jiya\")\n",
    "print(set)"
   ]
  },
  {
   "cell_type": "code",
   "execution_count": 10,
   "id": "e48ff77d",
   "metadata": {},
   "outputs": [
    {
     "name": "stdout",
     "output_type": "stream",
     "text": [
      "{1, 3, 4, 5, 6, 7, 8, 9, 10}\n"
     ]
    }
   ],
   "source": [
    "#update set \n",
    "set1={1,3,4,5,6,7}\n",
    "set2={8,9,10}\n",
    "set1.update(set2)\n",
    "print(set1)"
   ]
  },
  {
   "cell_type": "code",
   "execution_count": 12,
   "id": "69c21625",
   "metadata": {},
   "outputs": [
    {
     "name": "stdout",
     "output_type": "stream",
     "text": [
      "{1, 2, 3, 4, 'mama', 'kaka', 'jiju'}\n"
     ]
    }
   ],
   "source": [
    "#add list into the set \n",
    "set={ \"mama\",\"kaka\",\"jiju\"}\n",
    "list=[ 1,2,3,4]\n",
    "set.update(list)\n",
    "print(set)"
   ]
  },
  {
   "cell_type": "code",
   "execution_count": 13,
   "id": "f10fdc0e",
   "metadata": {},
   "outputs": [
    {
     "name": "stdout",
     "output_type": "stream",
     "text": [
      "{'grey', 'red', 'pink'}\n"
     ]
    }
   ],
   "source": [
    "#remove\n",
    "set ={\"pink\",\"grey\",\"yellow\",\"red\"}\n",
    "set.remove(\"yellow\")\n",
    "print(set)"
   ]
  },
  {
   "cell_type": "code",
   "execution_count": 14,
   "id": "4e52bec1",
   "metadata": {},
   "outputs": [
    {
     "name": "stdout",
     "output_type": "stream",
     "text": [
      "{'red', 'yellow', 'pink'}\n"
     ]
    }
   ],
   "source": [
    "#pop\n",
    "set ={\"pink\",\"grey\",\"yellow\",\"red\"}\n",
    "set.pop()\n",
    "print(set)"
   ]
  },
  {
   "cell_type": "code",
   "execution_count": 15,
   "id": "9e54baa8",
   "metadata": {},
   "outputs": [
    {
     "name": "stdout",
     "output_type": "stream",
     "text": [
      "set()\n"
     ]
    }
   ],
   "source": [
    "#clear\n",
    "set ={\"pink\",\"grey\",\"yellow\",\"red\"}\n",
    "set.clear()\n",
    "print(set)"
   ]
  },
  {
   "cell_type": "code",
   "execution_count": 16,
   "id": "bf29f59a",
   "metadata": {},
   "outputs": [
    {
     "name": "stdout",
     "output_type": "stream",
     "text": [
      "<class 'set'>\n"
     ]
    }
   ],
   "source": [
    "#del\n",
    "set ={\"pink\",\"grey\",\"yellow\",\"red\"}\n",
    "del set\n",
    "print(set)"
   ]
  },
  {
   "cell_type": "code",
   "execution_count": 17,
   "id": "470b17cf",
   "metadata": {},
   "outputs": [
    {
     "name": "stdout",
     "output_type": "stream",
     "text": [
      "grey\n",
      "red\n",
      "yellow\n",
      "pink\n"
     ]
    }
   ],
   "source": [
    "#for loop \n",
    "set ={\"pink\",\"grey\",\"yellow\",\"red\"}\n",
    "for x in set :\n",
    "    print(x)"
   ]
  },
  {
   "cell_type": "code",
   "execution_count": 18,
   "id": "b8db5189",
   "metadata": {},
   "outputs": [
    {
     "name": "stdout",
     "output_type": "stream",
     "text": [
      "{1, 2, 3, 4, 5, 6, 7}\n"
     ]
    }
   ],
   "source": [
    "set1={1,2,3,4}\n",
    "set2={4,5,6,7}\n",
    "set3= set1.union(set2)\n",
    "print(set3)"
   ]
  },
  {
   "cell_type": "code",
   "execution_count": 19,
   "id": "a6b523d7",
   "metadata": {},
   "outputs": [
    {
     "name": "stdout",
     "output_type": "stream",
     "text": [
      "{4}\n"
     ]
    }
   ],
   "source": [
    "set4=set1.intersection(set2)\n",
    "print(set4)"
   ]
  },
  {
   "cell_type": "code",
   "execution_count": 20,
   "id": "8e4d8004",
   "metadata": {},
   "outputs": [
    {
     "data": {
      "text/plain": [
       "{4, 5, 6, 7, 'grey', 'pink', 'red', 'yellow'}"
      ]
     },
     "execution_count": 20,
     "metadata": {},
     "output_type": "execute_result"
    }
   ],
   "source": [
    "#The symmetric_difference() method will return a new set, that contains only the elements that are NOT present in both sets.\n",
    "set1 ={\"pink\",\"grey\",\"yellow\",\"red\"}\n",
    "set2={4,5,6,7}\n",
    "set1.symmetric_difference(set2) "
   ]
  },
  {
   "cell_type": "code",
   "execution_count": 22,
   "id": "b9d32a31",
   "metadata": {},
   "outputs": [
    {
     "name": "stdout",
     "output_type": "stream",
     "text": [
      "{4, 5, 6, 7, 'red', 'pink', 'grey', 'yellow'}\n"
     ]
    }
   ],
   "source": [
    "set1 ={\"pink\",\"grey\",\"yellow\",\"red\"}\n",
    "set2={4,5,6,7}\n",
    "set1.symmetric_difference_update(set2) \n",
    "print(set1)"
   ]
  },
  {
   "cell_type": "markdown",
   "id": "cb72c765",
   "metadata": {},
   "source": [
    "# Dictionaries\n"
   ]
  },
  {
   "cell_type": "code",
   "execution_count": 23,
   "id": "c49a9946",
   "metadata": {},
   "outputs": [
    {
     "name": "stdout",
     "output_type": "stream",
     "text": [
      "{'name': 'jyoti', 'fathers_name': 'Bhagwanrao', 'last_name': 'Tatipamde'}\n"
     ]
    }
   ],
   "source": [
    "#Dictionaries are used to store data values in key:value pairs.\n",
    "\n",
    "#A dictionary is a collection which is ordered*, changeable and do not allow duplicates.\n",
    "student={ \"name\":\"jyoti\",\n",
    "         \"fathers_name\":\"Bhagwanrao\",\n",
    "         \"last_name\":\"Tatipamde\"}\n",
    "    \n",
    "print(student)"
   ]
  },
  {
   "cell_type": "code",
   "execution_count": 25,
   "id": "f543195e",
   "metadata": {},
   "outputs": [
    {
     "name": "stdout",
     "output_type": "stream",
     "text": [
      "jyoti\n"
     ]
    }
   ],
   "source": [
    "print(student[\"name\"])"
   ]
  },
  {
   "cell_type": "code",
   "execution_count": 26,
   "id": "5562c16b",
   "metadata": {},
   "outputs": [
    {
     "ename": "SyntaxError",
     "evalue": "invalid syntax (1172561247.py, line 5)",
     "output_type": "error",
     "traceback": [
      "\u001b[1;36m  Cell \u001b[1;32mIn[26], line 5\u001b[1;36m\u001b[0m\n\u001b[1;33m    \"last_name\":\"ankamwar\"}\u001b[0m\n\u001b[1;37m               ^\u001b[0m\n\u001b[1;31mSyntaxError\u001b[0m\u001b[1;31m:\u001b[0m invalid syntax\n"
     ]
    }
   ],
   "source": [
    "#duplicates not allowed\n",
    "student={ \"name\":\"jyoti\",\n",
    "         \"fathers_name\":\"Bhagwanrao\",\n",
    "         \"last_name\":\"Tatipamde\"\n",
    "        \"last_name\":\"ankamwar\"}\n",
    "print(student)"
   ]
  },
  {
   "cell_type": "code",
   "execution_count": 27,
   "id": "b3412a9f",
   "metadata": {},
   "outputs": [
    {
     "name": "stdout",
     "output_type": "stream",
     "text": [
      "3\n"
     ]
    }
   ],
   "source": [
    "student={ \"name\":\"jyoti\",\n",
    "         \"fathers_name\":\"Bhagwanrao\",\n",
    "         \"last_name\":\"Tatipamde\"}\n",
    "print(len(student))"
   ]
  },
  {
   "cell_type": "code",
   "execution_count": 29,
   "id": "6f5beaaa",
   "metadata": {},
   "outputs": [
    {
     "name": "stdout",
     "output_type": "stream",
     "text": [
      "{'name': 'meera', 'age': 34, 'weight': 50.2, 'dob': 1990}\n"
     ]
    }
   ],
   "source": [
    "dict={\"name\":\"meera\",\"age\":34,\"weight\":50.2,\"dob\":1990}\n",
    "print(dict)"
   ]
  },
  {
   "cell_type": "code",
   "execution_count": 30,
   "id": "0fa4b7e5",
   "metadata": {},
   "outputs": [
    {
     "name": "stdout",
     "output_type": "stream",
     "text": [
      "34\n"
     ]
    }
   ],
   "source": [
    "dict={\"name\":\"meera\",\"age\":34,\"weight\":50.2,\"dob\":1990}\n",
    "x=dict.get(\"age\")\n",
    "print(x)"
   ]
  },
  {
   "cell_type": "code",
   "execution_count": 32,
   "id": "eedb2567",
   "metadata": {},
   "outputs": [
    {
     "name": "stdout",
     "output_type": "stream",
     "text": [
      "dict_keys(['name', 'age', 'weight', 'dob'])\n"
     ]
    }
   ],
   "source": [
    "x=dict.keys()\n",
    "print(x)"
   ]
  },
  {
   "cell_type": "code",
   "execution_count": 33,
   "id": "f87cc5cc",
   "metadata": {},
   "outputs": [
    {
     "name": "stdout",
     "output_type": "stream",
     "text": [
      "dict_values(['meera', 34, 50.2, 1990])\n"
     ]
    }
   ],
   "source": [
    "y=dict.values()\n",
    "print(y)"
   ]
  },
  {
   "cell_type": "code",
   "execution_count": 34,
   "id": "cbc404da",
   "metadata": {},
   "outputs": [
    {
     "name": "stdout",
     "output_type": "stream",
     "text": [
      "{'name': 'meera', 'age': 34, 'weight': 50.2, 'dob': 1990}\n",
      "{'name': 'meera', 'age': 34, 'weight': 50.2, 'dob': 1990, 'address': 'pune'}\n"
     ]
    }
   ],
   "source": [
    "dict={\"name\":\"meera\",\"age\":34,\"weight\":50.2,\"dob\":1990}\n",
    "print(dict)\n",
    "dict[\"address\"]=\"pune\"\n",
    "print(dict)"
   ]
  },
  {
   "cell_type": "code",
   "execution_count": 37,
   "id": "778c4862",
   "metadata": {},
   "outputs": [
    {
     "name": "stdout",
     "output_type": "stream",
     "text": [
      "yes, address is present in the list \n"
     ]
    }
   ],
   "source": [
    "dict={'name': 'meera', 'age': 34, 'weight': 50.2, 'dob': 1990, 'address': 'pune'}\n",
    "if \"address\" in dict:\n",
    "    print(\"yes, address is present in the list \")"
   ]
  },
  {
   "cell_type": "code",
   "execution_count": 38,
   "id": "64ec0d8f",
   "metadata": {},
   "outputs": [
    {
     "name": "stdout",
     "output_type": "stream",
     "text": [
      "50.2\n"
     ]
    }
   ],
   "source": [
    "dic = {'name': 'meera', 'age': 34, 'weight': 50.2, 'dob': 1990, 'address': 'pune'}\n",
    "x=dic.pop(\"weight\")\n",
    "print(x)"
   ]
  },
  {
   "cell_type": "code",
   "execution_count": 51,
   "id": "abde1312",
   "metadata": {},
   "outputs": [
    {
     "name": "stdout",
     "output_type": "stream",
     "text": [
      "april_batch\n"
     ]
    }
   ],
   "source": [
    "dict1 = { \n",
    "   \"april_batch\":{ \n",
    "      \"student\":{ \n",
    "         \"name\":\"Mike\",\n",
    "         \"marks\":{ \n",
    "            \"python\":80,\n",
    "            \"maths\":70\n",
    "         }\n",
    "      }\n",
    "   }\n",
    "}\n",
    "for x in dict1:\n",
    "    print(x)"
   ]
  },
  {
   "cell_type": "code",
   "execution_count": 52,
   "id": "1fd526cf",
   "metadata": {},
   "outputs": [
    {
     "name": "stdout",
     "output_type": "stream",
     "text": [
      "{'student': {'name': 'Mike', 'marks': {'python': 80, 'maths': 70}}}\n"
     ]
    }
   ],
   "source": [
    "for x in dict1.values():\n",
    "    print(x)\n",
    "    "
   ]
  },
  {
   "cell_type": "code",
   "execution_count": 53,
   "id": "523ef0a1",
   "metadata": {},
   "outputs": [
    {
     "name": "stdout",
     "output_type": "stream",
     "text": [
      "april_batch {'student': {'name': 'Mike', 'marks': {'python': 80, 'maths': 70}}}\n"
     ]
    }
   ],
   "source": [
    "for x,y in dict1.items():\n",
    "    print(x,y)\n"
   ]
  },
  {
   "cell_type": "code",
   "execution_count": 54,
   "id": "9043f72e",
   "metadata": {},
   "outputs": [
    {
     "name": "stdout",
     "output_type": "stream",
     "text": [
      "{'april_batch': {'student': {'name': 'Mike', 'marks': {'python': 80, 'maths': 70}}}}\n"
     ]
    }
   ],
   "source": [
    "dict1 = { \n",
    "   \"april_batch\":{ \n",
    "      \"student\":{ \n",
    "         \"name\":\"Mike\",\n",
    "         \"marks\":{ \n",
    "            \"python\":80,\n",
    "            \"maths\":70\n",
    "         }\n",
    "      }\n",
    "   }\n",
    "}\n",
    "my_dict=dict1.copy()\n",
    "print(my_dict)\n",
    "\n"
   ]
  },
  {
   "cell_type": "code",
   "execution_count": 58,
   "id": "c90a9ddb",
   "metadata": {},
   "outputs": [
    {
     "name": "stdout",
     "output_type": "stream",
     "text": [
      "Mike\n"
     ]
    }
   ],
   "source": [
    "print(dict1[\"april_batch\"][\"student\"][\"name\"])"
   ]
  },
  {
   "cell_type": "code",
   "execution_count": 59,
   "id": "48aae070",
   "metadata": {},
   "outputs": [
    {
     "name": "stdout",
     "output_type": "stream",
     "text": [
      "{'april_batch': {'student': {'name': 'jyoti', 'marks': {'python': 80, 'maths': 70}}}}\n"
     ]
    }
   ],
   "source": [
    "dict1 = { \n",
    "   \"april_batch\":{ \n",
    "      \"student\":{ \n",
    "         \"name\":\"Mike\",\n",
    "         \"marks\":{ \n",
    "            \"python\":80,\n",
    "            \"maths\":70\n",
    "         }\n",
    "      }\n",
    "   }\n",
    "}\n",
    "dict1[\"april_batch\"][\"student\"][\"name\"]=\"jyoti\"\n",
    "print(dict1)"
   ]
  },
  {
   "cell_type": "code",
   "execution_count": 60,
   "id": "61fe61ee",
   "metadata": {},
   "outputs": [
    {
     "name": "stdout",
     "output_type": "stream",
     "text": [
      "80\n"
     ]
    }
   ],
   "source": [
    "print(dict1[\"april_batch\"][\"student\"][\"marks\"][\"python\"])"
   ]
  },
  {
   "cell_type": "code",
   "execution_count": 61,
   "id": "86f5bf67",
   "metadata": {},
   "outputs": [
    {
     "name": "stdout",
     "output_type": "stream",
     "text": [
      "{'april_batch': {'student': {'name': 'jyoti', 'marks': {'ML': 80, 'DL': 80}}}}\n"
     ]
    }
   ],
   "source": [
    "dict1[\"april_batch\"][\"student\"][\"marks\"]={\"ML\":80,\"DL\":80}\n",
    "print(dict1)"
   ]
  },
  {
   "cell_type": "code",
   "execution_count": null,
   "id": "adc60a13",
   "metadata": {},
   "outputs": [],
   "source": []
  }
 ],
 "metadata": {
  "kernelspec": {
   "display_name": "Python 3 (ipykernel)",
   "language": "python",
   "name": "python3"
  },
  "language_info": {
   "codemirror_mode": {
    "name": "ipython",
    "version": 3
   },
   "file_extension": ".py",
   "mimetype": "text/x-python",
   "name": "python",
   "nbconvert_exporter": "python",
   "pygments_lexer": "ipython3",
   "version": "3.11.3"
  }
 },
 "nbformat": 4,
 "nbformat_minor": 5
}
